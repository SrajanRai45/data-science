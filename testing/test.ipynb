{
 "cells": [
  {
   "cell_type": "code",
   "execution_count": 1,
   "id": "08353da6-3a26-40a5-99a6-e674fb7b5bae",
   "metadata": {},
   "outputs": [
    {
     "name": "stdout",
     "output_type": "stream",
     "text": [
      "============================================================\n",
      "GPU Setup Verification\n",
      "============================================================\n",
      "\n",
      "✅ PyTorch: 2.9.0+cu128\n",
      "✅ CUDA Available: False\n",
      "\n",
      "✅ PyOpenCL GPU Detection:\n",
      "  Platform: AMD Accelerated Parallel Processing\n",
      "  GPU Devices: 2\n",
      "    - gfx1030 (4)\n",
      "    - gfx1030 (4)\n",
      "\n",
      "✅ Your RX 6500M is ready for GPU compute!\n",
      "============================================================\n"
     ]
    }
   ],
   "source": [
    "import torch\n",
    "import pyopencl as cl\n",
    "\n",
    "print(\"=\"*60)\n",
    "print(\"GPU Setup Verification\")\n",
    "print(\"=\"*60)\n",
    "\n",
    "print(f\"\\n✅ PyTorch: {torch.__version__}\")\n",
    "print(f\"✅ CUDA Available: {torch.cuda.is_available()}\")\n",
    "\n",
    "print(f\"\\n✅ PyOpenCL GPU Detection:\")\n",
    "platforms = cl.get_platforms()\n",
    "for platform in platforms:\n",
    "    devices = platform.get_devices(device_type=cl.device_type.GPU)\n",
    "    print(f\"  Platform: {platform.name}\")\n",
    "    print(f\"  GPU Devices: {len(devices)}\")\n",
    "    for device in devices:\n",
    "        print(f\"    - {device.name} ({device.type})\")\n",
    "\n",
    "print(\"\\n✅ Your RX 6500M is ready for GPU compute!\")\n",
    "print(\"=\"*60)\n"
   ]
  },
  {
   "cell_type": "code",
   "execution_count": 2,
   "id": "71234ed9-b5ed-4a17-8497-749131e7a000",
   "metadata": {},
   "outputs": [
    {
     "name": "stdout",
     "output_type": "stream",
     "text": [
      "Total Platforms: 1\n",
      "\n",
      "Platform 0: AMD Accelerated Parallel Processing\n",
      "  Total GPU Devices: 2\n",
      "\n",
      "  Device 0:\n",
      "    Name: gfx1030\n",
      "    Type: ALL | GPU\n",
      "    Max Compute Units: 8\n",
      "    Max Memory: 3.98 GB\n",
      "    Device ID (gfx): gfx1030\n",
      "\n",
      "  Device 1:\n",
      "    Name: gfx1030\n",
      "    Type: ALL | GPU\n",
      "    Max Compute Units: 3\n",
      "    Max Memory: 7.48 GB\n",
      "    Device ID (gfx): gfx1030\n",
      "\n"
     ]
    }
   ],
   "source": [
    "import pyopencl as cl\n",
    "\n",
    "platforms = cl.get_platforms()\n",
    "print(f\"Total Platforms: {len(platforms)}\\n\")\n",
    "\n",
    "for p_idx, platform in enumerate(platforms):\n",
    "    print(f\"Platform {p_idx}: {platform.name}\")\n",
    "    devices = platform.get_devices(device_type=cl.device_type.GPU)\n",
    "    print(f\"  Total GPU Devices: {len(devices)}\\n\")\n",
    "    \n",
    "    for d_idx, device in enumerate(devices):\n",
    "        print(f\"  Device {d_idx}:\")\n",
    "        print(f\"    Name: {device.name}\")\n",
    "        print(f\"    Type: {cl.device_type.to_string(device.type)}\")\n",
    "        print(f\"    Max Compute Units: {device.max_compute_units}\")\n",
    "        print(f\"    Max Memory: {device.global_mem_size / (1024**3):.2f} GB\")\n",
    "        print(f\"    Device ID (gfx): {device.name}\")\n",
    "        print()\n"
   ]
  }
 ],
 "metadata": {
  "kernelspec": {
   "display_name": "Python 3 (ipykernel)",
   "language": "python",
   "name": "python3"
  },
  "language_info": {
   "codemirror_mode": {
    "name": "ipython",
    "version": 3
   },
   "file_extension": ".py",
   "mimetype": "text/x-python",
   "name": "python",
   "nbconvert_exporter": "python",
   "pygments_lexer": "ipython3",
   "version": "3.12.12"
  }
 },
 "nbformat": 4,
 "nbformat_minor": 5
}
