{
 "cells": [
  {
   "cell_type": "code",
   "execution_count": 1,
   "id": "04d9f1cb-d173-4a94-90c1-1dcd2f026c91",
   "metadata": {},
   "outputs": [],
   "source": [
    "import json\n",
    "data = 0"
   ]
  },
  {
   "cell_type": "code",
   "execution_count": 5,
   "id": "60ef7667-ec94-40ef-bf5b-7fdaa03d613c",
   "metadata": {},
   "outputs": [
    {
     "data": {
      "text/plain": [
       "{'users': [{'id': 1, 'name': 'Amit', 'friends': [2, 3], 'liked_pages': [101]},\n",
       "  {'id': 2, 'name': 'Priya', 'friends': [1, 4], 'liked_pages': [102]},\n",
       "  {'id': 3, 'name': 'Rahul', 'friends': [1], 'liked_pages': [101, 103]},\n",
       "  {'id': 4, 'name': 'Sara', 'friends': [2], 'liked_pages': [104]}],\n",
       " 'pages': [{'id': 101, 'name': 'Python Developers'},\n",
       "  {'id': 102, 'name': 'Data Science Enthusiasts'},\n",
       "  {'id': 103, 'name': 'AI & ML Community'},\n",
       "  {'id': 104, 'name': 'Web Dev Hub'}]}"
      ]
     },
     "execution_count": 5,
     "metadata": {},
     "output_type": "execute_result"
    }
   ],
   "source": [
    "with open(\"data-files/cod_data.json\",\"r\") as file:\n",
    "    data = json.load(file)\n",
    "data = json.loads(data)\n",
    "data"
   ]
  },
  {
   "cell_type": "code",
   "execution_count": 29,
   "id": "487bf8e0-97fe-43c3-af44-68032d0799bc",
   "metadata": {},
   "outputs": [],
   "source": [
    "#people you may know\n",
    "#matrix format storage? i think yes due to weighted edges\n",
    "def people_you_may_know(id,data):\n",
    "    #making a list of friends\n",
    "    friends = [user['friends'] for user in data['users'] if user['id'] == id]\n",
    "    \n",
    "    #cleaning list\n",
    "    friends = friends[0]\n",
    "    friends.append(id)     #appending user id to filter it out in future\n",
    "\n",
    "    #people_you_may_know == people {name : score / weight of edge}\n",
    "    people = {}\n",
    "    buffer = []      #list of people ids\n",
    "\n",
    "    #filling buffer\n",
    "    for user in data['users']:\n",
    "        if user['id'] in friends:\n",
    "            buffer.extend(user['friends'])\n",
    "\n",
    "    #filtering buffer of friends id(already friends) and user id (you cant be your own friend)        \n",
    "    buffer = list(filter(lambda x : x not in friends,buffer))   \n",
    "\n",
    "    #filling people\n",
    "    for user in data['users']:\n",
    "        if user['id'] in buffer:\n",
    "            score = 0\n",
    "            for i in buffer:\n",
    "                if i == user['id']:\n",
    "                    score += 1\n",
    "            people[user['name']] = score\n",
    "    return people"
   ]
  },
  {
   "cell_type": "code",
   "execution_count": 30,
   "id": "6b2624ab-d78b-48f8-b023-8e118107ea04",
   "metadata": {},
   "outputs": [
    {
     "data": {
      "text/plain": [
       "{'Sara': 1}"
      ]
     },
     "execution_count": 30,
     "metadata": {},
     "output_type": "execute_result"
    }
   ],
   "source": [
    "user_id = 1\n",
    "f = people_you_may_know(user_id,data)\n",
    "f"
   ]
  }
 ],
 "metadata": {
  "kernelspec": {
   "display_name": "Python 3 (ipykernel)",
   "language": "python",
   "name": "python3"
  },
  "language_info": {
   "codemirror_mode": {
    "name": "ipython",
    "version": 3
   },
   "file_extension": ".py",
   "mimetype": "text/x-python",
   "name": "python",
   "nbconvert_exporter": "python",
   "pygments_lexer": "ipython3",
   "version": "3.12.12"
  }
 },
 "nbformat": 4,
 "nbformat_minor": 5
}
