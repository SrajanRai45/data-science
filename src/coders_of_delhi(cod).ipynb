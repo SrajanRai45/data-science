{
 "cells": [
  {
   "cell_type": "code",
   "execution_count": 3,
   "id": "ac709195-ab91-4bed-a44d-14176de4e857",
   "metadata": {},
   "outputs": [],
   "source": [
    "import json"
   ]
  },
  {
   "cell_type": "code",
   "execution_count": 13,
   "id": "59e0ed27-f825-4bfd-8fc0-8f68d327452d",
   "metadata": {},
   "outputs": [],
   "source": [
    "data = {\n",
    "    \"users\": [\n",
    "        {\"id\": 1, \"name\": \"Amit\", \"friends\": [2, 3], \"liked_pages\": [101]},\n",
    "        {\"id\": 2, \"name\": \"Priya\", \"friends\": [1, 4], \"liked_pages\": [102]},\n",
    "        {\"id\": 3, \"name\": \"Rahul\", \"friends\": [1], \"liked_pages\": [101, 103]},\n",
    "        {\"id\": 4, \"name\": \"Sara\", \"friends\": [2], \"liked_pages\": [104]}\n",
    "    ],\n",
    "    \"pages\": [\n",
    "        {\"id\": 101, \"name\": \"Python Developers\"},\n",
    "        {\"id\": 102, \"name\": \"Data Science Enthusiasts\"},\n",
    "        {\"id\": 103, \"name\": \"AI & ML Community\"},\n",
    "        {\"id\": 104, \"name\": \"Web Dev Hub\"}\n",
    "    ]\n",
    "}\n",
    "data = json.dumps(data)\n",
    "with open(\"data-files/cod_data.json\",\"w\") as file:\n",
    "    json.dump(data , file)\n",
    "    data"
   ]
  },
  {
   "cell_type": "code",
   "execution_count": 15,
   "id": "8965d732-4d46-4d58-a778-efd885f6f607",
   "metadata": {},
   "outputs": [
    {
     "name": "stdout",
     "output_type": "stream",
     "text": [
      "{\"users\": [{\"id\": 1, \"name\": \"Amit\", \"friends\": [2, 3], \"liked_pages\": [101]}, {\"id\": 2, \"name\": \"Priya\", \"friends\": [1, 4], \"liked_pages\": [102]}, {\"id\": 3, \"name\": \"Rahul\", \"friends\": [1], \"liked_pages\": [101, 103]}, {\"id\": 4, \"name\": \"Sara\", \"friends\": [2], \"liked_pages\": [104]}], \"pages\": [{\"id\": 101, \"name\": \"Python Developers\"}, {\"id\": 102, \"name\": \"Data Science Enthusiasts\"}, {\"id\": 103, \"name\": \"AI & ML Community\"}, {\"id\": 104, \"name\": \"Web Dev Hub\"}]}\n"
     ]
    }
   ],
   "source": [
    "with open(\"data-files/cod_data.json\",\"r\") as file:\n",
    "    data = json.load(file)\n",
    "    print(data)"
   ]
  },
  {
   "cell_type": "markdown",
   "id": "293509c7-ef20-4d0b-a6bc-d187d0468a40",
   "metadata": {},
   "source": [
    "so lets define the db using our **brain**  \n",
    "**1**. level one data, **user** and **pages** are **keys** with respective data  \n",
    "**2**. level two (lower level data)  \n",
    "    **under user** 4 attributes: name, friends, (list) liked pages(fkey list), id(pkey)  \n",
    "    **under pages** 2 attributes: id(pkey) and name  \n",
    "here there are a few insights, there are connections in between, preferences, "
   ]
  },
  {
   "cell_type": "code",
   "execution_count": null,
   "id": "b5cc1459-281b-46c4-81a7-c1bc71c28425",
   "metadata": {},
   "outputs": [],
   "source": [
    "def UserInfo(id):\n",
    "    names = [user for i in data ]"
   ]
  },
  {
   "cell_type": "code",
   "execution_count": 33,
   "id": "0ff38cb4-93a5-489f-a2b5-adcdefd709ea",
   "metadata": {},
   "outputs": [],
   "source": [
    "#data = json.loads(data)"
   ]
  },
  {
   "cell_type": "code",
   "execution_count": 31,
   "id": "6c6d4531-9826-4812-abe4-450c691f8151",
   "metadata": {},
   "outputs": [
    {
     "data": {
      "text/plain": [
       "[[{'id': 1, 'name': 'Amit', 'friends': [2, 3], 'liked_pages': [101]},\n",
       "  {'id': 2, 'name': 'Priya', 'friends': [1, 4], 'liked_pages': [102]},\n",
       "  {'id': 3, 'name': 'Rahul', 'friends': [1], 'liked_pages': [101, 103]},\n",
       "  {'id': 4, 'name': 'Sara', 'friends': [2], 'liked_pages': [104]}]]"
      ]
     },
     "execution_count": 31,
     "metadata": {},
     "output_type": "execute_result"
    }
   ],
   "source": [
    "d = [i for i in data]\n",
    "user_data = [data[i] for i in d if i == 'users']\n",
    "user_data"
   ]
  },
  {
   "cell_type": "code",
   "execution_count": 32,
   "id": "5bfe07b9-7b61-4bb9-b23f-0bf91d90f9b8",
   "metadata": {},
   "outputs": [
    {
     "data": {
      "text/plain": [
       "[[{'id': 101, 'name': 'Python Developers'},\n",
       "  {'id': 102, 'name': 'Data Science Enthusiasts'},\n",
       "  {'id': 103, 'name': 'AI & ML Community'},\n",
       "  {'id': 104, 'name': 'Web Dev Hub'}]]"
      ]
     },
     "execution_count": 32,
     "metadata": {},
     "output_type": "execute_result"
    }
   ],
   "source": [
    "pages_data = [data[i] for i in d if i == 'pages']\n",
    "pages_data"
   ]
  },
  {
   "cell_type": "code",
   "execution_count": 34,
   "id": "cefcb4a4-b146-4f6d-acb8-ec0e84167305",
   "metadata": {},
   "outputs": [
    {
     "data": {
      "text/plain": [
       "[['Amit', [101]], ['Priya', [102]], ['Rahul', [101, 103]], ['Sara', [104]]]"
      ]
     },
     "execution_count": 34,
     "metadata": {},
     "output_type": "execute_result"
    }
   ],
   "source": [
    "preferences = [[j['name'], j['liked_pages']] for i in user_data for j in i]\n",
    "preferences"
   ]
  },
  {
   "cell_type": "code",
   "execution_count": 35,
   "id": "c508ab7a-b5ea-4086-928f-d9b6e8c193de",
   "metadata": {},
   "outputs": [
    {
     "data": {
      "text/plain": [
       "[['Amit', [2, 3]], ['Priya', [1, 4]], ['Rahul', [1]], ['Sara', [2]]]"
      ]
     },
     "execution_count": 35,
     "metadata": {},
     "output_type": "execute_result"
    }
   ],
   "source": [
    "connections = [[j['name'], j['friends']] for i in user_data for j in i]\n",
    "connections"
   ]
  },
  {
   "cell_type": "code",
   "execution_count": 45,
   "id": "f4b00ffb-4ab1-4a1a-a147-31c0596ba63f",
   "metadata": {},
   "outputs": [
    {
     "name": "stdout",
     "output_type": "stream",
     "text": [
      "BELOW IS THE DATA INSIGHTS:\n",
      "\n",
      "PREFERENCES:\n",
      "\n",
      "1.Amit has preferences:- Python Developers \n",
      "2.Priya has preferences:- Data Science Enthusiasts \n",
      "3.Rahul has preferences:- Python Developers, AI & ML Community \n",
      "4.Sara has preferences:- Web Dev Hub \n",
      "\n",
      "CONNECTIONS:\n",
      "\n",
      "1.Amit has friends:- Priya, Rahul\n",
      "2.Priya has friends:- Amit, Sara\n",
      "3.Rahul has friends:- Amit\n",
      "4.Sara has friends:- Priya\n"
     ]
    }
   ],
   "source": [
    "print(\"BELOW IS THE DATA INSIGHTS:\\n\")\n",
    "print(\"PREFERENCES:\\n\")\n",
    "n=1\n",
    "for i in preferences:\n",
    "    pref = i[1]\n",
    "    names = [k['name'] for k in pages_data[0] if k['id'] in pref]\n",
    "    print(f\"{n}.{i[0]} has preferences:- {', '.join(names)} \")\n",
    "    n+=1\n",
    "print(\"\\nCONNECTIONS:\\n\")\n",
    "n = 1\n",
    "for i in connections:\n",
    "    friends = i[1]\n",
    "    names = [k['name'] for k in user_data[0] if k['id'] in friends]\n",
    "    print(f\"{n}.{i[0]} has friends:- {', '.join(names)}\")\n",
    "    n+=1"
   ]
  },
  {
   "cell_type": "code",
   "execution_count": null,
   "id": "cf3830bb-7000-41f1-b962-31a75f381af0",
   "metadata": {},
   "outputs": [],
   "source": []
  }
 ],
 "metadata": {
  "kernelspec": {
   "display_name": "Python 3 (ipykernel)",
   "language": "python",
   "name": "python3"
  },
  "language_info": {
   "codemirror_mode": {
    "name": "ipython",
    "version": 3
   },
   "file_extension": ".py",
   "mimetype": "text/x-python",
   "name": "python",
   "nbconvert_exporter": "python",
   "pygments_lexer": "ipython3",
   "version": "3.12.12"
  }
 },
 "nbformat": 4,
 "nbformat_minor": 5
}
