{
 "cells": [
  {
   "cell_type": "code",
   "execution_count": 1,
   "id": "91199cb1-3c65-4b52-98a2-613c30807230",
   "metadata": {},
   "outputs": [],
   "source": [
    "import random\n",
    "import numpy as np"
   ]
  },
  {
   "cell_type": "code",
   "execution_count": 2,
   "id": "f483bd33-751b-487f-9c9a-8c33a3c8a211",
   "metadata": {},
   "outputs": [
    {
     "data": {
      "text/plain": [
       "9"
      ]
     },
     "execution_count": 2,
     "metadata": {},
     "output_type": "execute_result"
    }
   ],
   "source": [
    "num = random.randrange(1,10,1)\n",
    "num"
   ]
  },
  {
   "cell_type": "code",
   "execution_count": 3,
   "id": "97f4481e-c6c3-4161-a197-33afefe49707",
   "metadata": {},
   "outputs": [],
   "source": [
    "arr = np.array([[i + random.randrange(1,10,1) ,i+random.randrange(1,10,1) ,i - random.randrange(1,10,1)] for i in range(0,3)])"
   ]
  },
  {
   "cell_type": "code",
   "execution_count": 4,
   "id": "ec8bcaa8-ed22-46ba-903d-1e98090d58f2",
   "metadata": {},
   "outputs": [
    {
     "data": {
      "text/plain": [
       "array([[ 1,  9, -6],\n",
       "       [ 2,  4, -6],\n",
       "       [ 8,  9, -7]])"
      ]
     },
     "execution_count": 4,
     "metadata": {},
     "output_type": "execute_result"
    }
   ],
   "source": [
    "arr"
   ]
  },
  {
   "cell_type": "code",
   "execution_count": 5,
   "id": "ed51a585-44cb-4fda-bd07-20866c9f29da",
   "metadata": {},
   "outputs": [
    {
     "data": {
      "text/plain": [
       "(3, 3)"
      ]
     },
     "execution_count": 5,
     "metadata": {},
     "output_type": "execute_result"
    }
   ],
   "source": [
    "arr.shape"
   ]
  },
  {
   "cell_type": "code",
   "execution_count": 6,
   "id": "c490f81a-a74c-4123-b2c1-3b2d96298140",
   "metadata": {},
   "outputs": [
    {
     "data": {
      "text/plain": [
       "dtype('float64')"
      ]
     },
     "execution_count": 6,
     "metadata": {},
     "output_type": "execute_result"
    }
   ],
   "source": [
    "#question 2 float nparray to int\n",
    "arr = np.array([1.1,2.2,3.3])\n",
    "arr.dtype"
   ]
  },
  {
   "cell_type": "code",
   "execution_count": 7,
   "id": "7e0b474c-1d68-4227-b729-ae2dd94ac56d",
   "metadata": {},
   "outputs": [
    {
     "data": {
      "text/plain": [
       "array([1, 2, 3])"
      ]
     },
     "execution_count": 7,
     "metadata": {},
     "output_type": "execute_result"
    }
   ],
   "source": [
    "arr.astype(np.int64)"
   ]
  },
  {
   "cell_type": "code",
   "execution_count": 8,
   "id": "62e6f99a-8a8b-4dbb-ab1c-6dc64a80c18d",
   "metadata": {},
   "outputs": [
    {
     "data": {
      "text/plain": [
       "array([2, 4, 6])"
      ]
     },
     "execution_count": 8,
     "metadata": {},
     "output_type": "execute_result"
    }
   ],
   "source": [
    "#question 3 fancy indexing to get even from list [1,2,3,4,5,6]\n",
    "arr = np.array([1,2,3,4,5,6])\n",
    "arr2 = arr[1::2].copy()\n",
    "arr2"
   ]
  },
  {
   "cell_type": "code",
   "execution_count": 9,
   "id": "107ba503-8d20-40ec-a953-1ddb26dc0663",
   "metadata": {},
   "outputs": [
    {
     "name": "stdout",
     "output_type": "stream",
     "text": [
      "[1 2 3 4 5 6 7 8 9]\n"
     ]
    },
    {
     "data": {
      "text/plain": [
       "array([[1, 2, 3],\n",
       "       [4, 5, 6],\n",
       "       [7, 8, 9]])"
      ]
     },
     "execution_count": 9,
     "metadata": {},
     "output_type": "execute_result"
    }
   ],
   "source": [
    "#q4 1d array to 3x3 matrix of size 9\n",
    "#basic factorials of 9 are (1,9) (9,1) (3,3)\n",
    "#using matrix shape shift\n",
    "arr = np.array([1,2,3,4,5,6,7,8,9])\n",
    "print(arr)\n",
    "arr = arr.reshape((3,3))\n",
    "arr"
   ]
  },
  {
   "cell_type": "code",
   "execution_count": 10,
   "id": "544bb303-b075-4589-8349-a3299af5f867",
   "metadata": {},
   "outputs": [
    {
     "name": "stdout",
     "output_type": "stream",
     "text": [
      "this is the array orinally: [ 0  2  4  6  8 10 12 14 16 18 20 22 24 26 28 30 32 34 36 38 40 42 44 46\n",
      " 48 50 52 54 56 58] \n",
      "\n",
      "\n",
      "this is part of array that is greater then 50: [52 54 56 58]\n"
     ]
    }
   ],
   "source": [
    "#already done exercize on boolean indexing but ok nvm\n",
    "arr = np.arange(0,60,2)\n",
    "print(f\"this is the array orinally: {arr} \\n\\n\")\n",
    "print(f\"this is part of array that is greater then 50: {arr[arr>50]}\")"
   ]
  }
 ],
 "metadata": {
  "kernelspec": {
   "display_name": "Python 3 (ipykernel)",
   "language": "python",
   "name": "python3"
  },
  "language_info": {
   "codemirror_mode": {
    "name": "ipython",
    "version": 3
   },
   "file_extension": ".py",
   "mimetype": "text/x-python",
   "name": "python",
   "nbconvert_exporter": "python",
   "pygments_lexer": "ipython3",
   "version": "3.12.12"
  }
 },
 "nbformat": 4,
 "nbformat_minor": 5
}
