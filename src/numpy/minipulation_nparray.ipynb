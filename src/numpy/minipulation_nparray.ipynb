{
 "cells": [
  {
   "cell_type": "code",
   "execution_count": 1,
   "id": "642e3931-e29a-4927-bfac-b0bd45fa2f9a",
   "metadata": {},
   "outputs": [],
   "source": [
    "import numpy as np"
   ]
  },
  {
   "cell_type": "code",
   "execution_count": 2,
   "id": "d4d20ff2-a61d-48a4-937a-9868505e44fc",
   "metadata": {},
   "outputs": [],
   "source": [
    "a = np.array([1,2,3,4,5,6,7,8,9,10])"
   ]
  },
  {
   "cell_type": "code",
   "execution_count": 3,
   "id": "3f7e2677-dcbc-4d0c-9c43-c05a9de6a4a2",
   "metadata": {},
   "outputs": [],
   "source": [
    "b = a[:4]"
   ]
  },
  {
   "cell_type": "code",
   "execution_count": 5,
   "id": "31ef7867-5635-4a2d-a91c-ad9af7c61d0b",
   "metadata": {},
   "outputs": [
    {
     "data": {
      "text/plain": [
       "array([999,   2,   3,   4])"
      ]
     },
     "execution_count": 5,
     "metadata": {},
     "output_type": "execute_result"
    }
   ],
   "source": [
    "b[0] = 999\n",
    "b"
   ]
  },
  {
   "cell_type": "code",
   "execution_count": 6,
   "id": "cb1f1a1e-71e7-4649-884a-1a1b4ccf93bc",
   "metadata": {},
   "outputs": [
    {
     "data": {
      "text/plain": [
       "array([999,   2,   3,   4,   5,   6,   7,   8,   9,  10])"
      ]
     },
     "execution_count": 6,
     "metadata": {},
     "output_type": "execute_result"
    }
   ],
   "source": [
    "a"
   ]
  },
  {
   "cell_type": "markdown",
   "id": "e9ccc0f1-9895-4317-8562-095458a6c143",
   "metadata": {},
   "source": [
    "<h3>REFERENCES NOT A COPY</h3>\n",
    "<p>to copy use .copy() method</p>"
   ]
  },
  {
   "cell_type": "code",
   "execution_count": 7,
   "id": "85258a41-00d2-499e-8357-8ae77d9f1fd5",
   "metadata": {},
   "outputs": [],
   "source": [
    "b = a[:4].copy()"
   ]
  },
  {
   "cell_type": "code",
   "execution_count": 11,
   "id": "30d3fb24-aace-4ea8-88fa-e9538c09d5b9",
   "metadata": {},
   "outputs": [
    {
     "data": {
      "text/plain": [
       "array([ 999, 1000,    3,    4])"
      ]
     },
     "execution_count": 11,
     "metadata": {},
     "output_type": "execute_result"
    }
   ],
   "source": [
    "b[1] = 1000\n",
    "b #seperate memory allocation"
   ]
  },
  {
   "cell_type": "code",
   "execution_count": 10,
   "id": "fba6fdec-d3e8-435a-b8d6-6341f3e0244e",
   "metadata": {},
   "outputs": [
    {
     "data": {
      "text/plain": [
       "array([999,   2,   3,   4,   5,   6,   7,   8,   9,  10])"
      ]
     },
     "execution_count": 10,
     "metadata": {},
     "output_type": "execute_result"
    }
   ],
   "source": [
    "a"
   ]
  },
  {
   "cell_type": "markdown",
   "id": "c1915f96-69e5-4cf1-926c-15780957781c",
   "metadata": {},
   "source": [
    "**hello** freiends today we learn *boolean masking*"
   ]
  },
  {
   "cell_type": "code",
   "execution_count": 14,
   "id": "bd4143d4-fe24-40dd-afd5-712a1b8de5f7",
   "metadata": {},
   "outputs": [
    {
     "data": {
      "text/plain": [
       "array([999])"
      ]
     },
     "execution_count": 14,
     "metadata": {},
     "output_type": "execute_result"
    }
   ],
   "source": [
    "#arr[condition]\n",
    "arr = a.copy()\n",
    "arr[arr>32]"
   ]
  },
  {
   "cell_type": "markdown",
   "id": "10579c68-3a41-4f66-b391-4d85017484ee",
   "metadata": {},
   "source": [
    "now we learn **<h7>DIRECT INDEXING</h7>**  "
   ]
  },
  {
   "cell_type": "code",
   "execution_count": 16,
   "id": "d107d031-d9c8-41b3-a23e-08f9a387f9c9",
   "metadata": {},
   "outputs": [
    {
     "data": {
      "text/plain": [
       "array([2, 3, 4, 6])"
      ]
     },
     "execution_count": 16,
     "metadata": {},
     "output_type": "execute_result"
    }
   ],
   "source": [
    "arr[[1,2,3,5]]"
   ]
  },
  {
   "cell_type": "markdown",
   "id": "53be408c-88b1-454d-9261-632592da80fb",
   "metadata": {},
   "source": [
    "<h1>MULTIDIMENSIONAL-INDEXING AND AXIS</h1>"
   ]
  }
 ],
 "metadata": {
  "kernelspec": {
   "display_name": "Python 3 (ipykernel)",
   "language": "python",
   "name": "python3"
  },
  "language_info": {
   "codemirror_mode": {
    "name": "ipython",
    "version": 3
   },
   "file_extension": ".py",
   "mimetype": "text/x-python",
   "name": "python",
   "nbconvert_exporter": "python",
   "pygments_lexer": "ipython3",
   "version": "3.12.12"
  }
 },
 "nbformat": 4,
 "nbformat_minor": 5
}
