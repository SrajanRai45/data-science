{
 "cells": [
  {
   "cell_type": "markdown",
   "id": "2826aec7-8ee1-4576-b205-5a7d31af8830",
   "metadata": {},
   "source": [
    "function  \n",
    "np.zeros((x,y))  \n",
    "np.ones((dimensions x,y))  \n",
    "np.full((dimensions x,y), number to be filled **i.e, 7**)  "
   ]
  },
  {
   "cell_type": "code",
   "execution_count": 1,
   "id": "978c0154-bfc4-4d3f-b4fa-9ca8e747761e",
   "metadata": {},
   "outputs": [],
   "source": [
    "import numpy as np\n",
    "a = np.zeros((3,3))\n",
    "b = np.ones((3,3))\n",
    "c = np.full((3,3),7)"
   ]
  },
  {
   "cell_type": "code",
   "execution_count": 2,
   "id": "39ef6b6f-d42e-41d6-863e-75a088d17f26",
   "metadata": {},
   "outputs": [
    {
     "data": {
      "text/plain": [
       "array([[0., 0., 0.],\n",
       "       [0., 0., 0.],\n",
       "       [0., 0., 0.]])"
      ]
     },
     "execution_count": 2,
     "metadata": {},
     "output_type": "execute_result"
    }
   ],
   "source": [
    "a"
   ]
  },
  {
   "cell_type": "code",
   "execution_count": 3,
   "id": "f0270972-6ee2-4b68-bd3d-2116e9d931f1",
   "metadata": {},
   "outputs": [
    {
     "data": {
      "text/plain": [
       "array([[1., 1., 1.],\n",
       "       [1., 1., 1.],\n",
       "       [1., 1., 1.]])"
      ]
     },
     "execution_count": 3,
     "metadata": {},
     "output_type": "execute_result"
    }
   ],
   "source": [
    "b"
   ]
  },
  {
   "cell_type": "code",
   "execution_count": 4,
   "id": "a2969516-38fd-48f3-87f9-24e08ef77022",
   "metadata": {},
   "outputs": [
    {
     "data": {
      "text/plain": [
       "array([[7, 7, 7],\n",
       "       [7, 7, 7],\n",
       "       [7, 7, 7]])"
      ]
     },
     "execution_count": 4,
     "metadata": {},
     "output_type": "execute_result"
    }
   ],
   "source": [
    "c"
   ]
  },
  {
   "cell_type": "code",
   "execution_count": 5,
   "id": "238f1f27-93a1-4924-855a-c9de6776e53d",
   "metadata": {},
   "outputs": [
    {
     "data": {
      "text/plain": [
       "array([0.  , 0.25, 0.5 , 0.75, 1.  ])"
      ]
     },
     "execution_count": 5,
     "metadata": {},
     "output_type": "execute_result"
    }
   ],
   "source": [
    "#to be exact this is how all of the functions work here\n",
    "np.zeros((3, 3))    # 3x3 array of zeros\n",
    "np.ones((2, 4))     # 2x4 array of ones\n",
    "np.full((2, 2), 7)  # 2x2 array filled with 7\n",
    "np.eye(4)           # 4x4 identity matrix\n",
    "np.arange(1, 10, 2) # [1, 3, 5, 7, 9] (like range)\n",
    "np.linspace(0, 1, 5) # [0. 0.25 0.5 0.75 1.] (evenly spaced)"
   ]
  },
  {
   "cell_type": "markdown",
   "id": "e37eed5a-f3ae-46f1-871b-e49168a18151",
   "metadata": {},
   "source": [
    "**<h1> ATTRIBUTES </h1>**"
   ]
  },
  {
   "cell_type": "code",
   "execution_count": 7,
   "id": "d6c4a519-02d9-4b4c-b7bd-feb730bfccb9",
   "metadata": {},
   "outputs": [],
   "source": [
    "#the attributes of an numpy array\n",
    "#shape(rows and columns) size dimension/ndim datatype/dtype\n",
    "arr = np.array([[1,2,3,4,5],[11,12,13,14,15]])"
   ]
  },
  {
   "cell_type": "code",
   "execution_count": 8,
   "id": "364aa7bd-f644-4cec-9ea4-8ee667617c63",
   "metadata": {},
   "outputs": [
    {
     "data": {
      "text/plain": [
       "(2, 5)"
      ]
     },
     "execution_count": 8,
     "metadata": {},
     "output_type": "execute_result"
    }
   ],
   "source": [
    "arr.shape"
   ]
  },
  {
   "cell_type": "code",
   "execution_count": 9,
   "id": "c83945c4-937f-42eb-ab62-9cdd3e3031f6",
   "metadata": {},
   "outputs": [
    {
     "data": {
      "text/plain": [
       "10"
      ]
     },
     "execution_count": 9,
     "metadata": {},
     "output_type": "execute_result"
    }
   ],
   "source": [
    "arr.size"
   ]
  },
  {
   "cell_type": "code",
   "execution_count": 10,
   "id": "8092918c-f0ba-40bb-ab27-b1aa5f5c68e8",
   "metadata": {},
   "outputs": [
    {
     "data": {
      "text/plain": [
       "2"
      ]
     },
     "execution_count": 10,
     "metadata": {},
     "output_type": "execute_result"
    }
   ],
   "source": [
    "arr.ndim"
   ]
  },
  {
   "cell_type": "code",
   "execution_count": 11,
   "id": "326fbc1f-b6a0-4974-9f1e-3757326abf2f",
   "metadata": {},
   "outputs": [
    {
     "data": {
      "text/plain": [
       "dtype('int64')"
      ]
     },
     "execution_count": 11,
     "metadata": {},
     "output_type": "execute_result"
    }
   ],
   "source": [
    "arr.dtype"
   ]
  },
  {
   "cell_type": "markdown",
   "id": "ed2afa25-9df5-4d3c-b8cd-5c72da171d1f",
   "metadata": {},
   "source": [
    "**<h1> TYPE CONVERSION </h1>**   "
   ]
  },
  {
   "cell_type": "code",
   "execution_count": 21,
   "id": "a3d569b2-3d76-4d76-a995-841f3b88a1c7",
   "metadata": {},
   "outputs": [
    {
     "name": "stdout",
     "output_type": "stream",
     "text": [
      "int64\n"
     ]
    },
    {
     "data": {
      "text/plain": [
       "dtype('float64')"
      ]
     },
     "execution_count": 21,
     "metadata": {},
     "output_type": "execute_result"
    }
   ],
   "source": [
    "#type conversion is only possible from:\n",
    "#number --> number != string\n",
    "arr = np.arange(1,7,8)\n",
    "print(arr.dtype)\n",
    "arr2 = arr.astype(np.float64) #other types--> float32 and int32\n",
    "arr2.dtype "
   ]
  },
  {
   "cell_type": "markdown",
   "id": "c746850e-8659-408a-8173-88cbee7a107b",
   "metadata": {},
   "source": [
    "**<h1>CHANGING SHAPE/DIMENSION(NDIM) ATTRIBUTE</h1>**"
   ]
  },
  {
   "cell_type": "code",
   "execution_count": 34,
   "id": "4fc2975e-8c9a-4ed6-b4d4-565c2e632b00",
   "metadata": {},
   "outputs": [
    {
     "name": "stdout",
     "output_type": "stream",
     "text": [
      "[[ 1  2  2  3  3  4]\n",
      " [ 4  5  5  6  6  7]\n",
      " [ 7  8  8  9  9 10]]\n"
     ]
    }
   ],
   "source": [
    "arr = np.array(([[i,i+1] for i in range(1,10)]))\n",
    "arr2 = np.array(([[i,i+1] for i in range(1,10)]))\n",
    "arr.shape #--> 9,2 ,means 9*2 elements take factor of 18 (2,9) (3,6) (6,8) only this is possible\n",
    "print(arr.reshape((3,6)))\n"
   ]
  },
  {
   "cell_type": "code",
   "execution_count": 35,
   "id": "1d022b83-fa42-44c8-a451-964bd8afb632",
   "metadata": {},
   "outputs": [
    {
     "data": {
      "text/plain": [
       "array([ 1,  2,  2,  3,  3,  4,  4,  5,  5,  6,  6,  7,  7,  8,  8,  9,  9,\n",
       "       10])"
      ]
     },
     "execution_count": 35,
     "metadata": {},
     "output_type": "execute_result"
    }
   ],
   "source": [
    "#flatten 2D --> 1D\n",
    "arr.flatten()"
   ]
  },
  {
   "cell_type": "code",
   "execution_count": 36,
   "id": "e3be569c-f25b-4f17-85f1-e746d4818179",
   "metadata": {},
   "outputs": [
    {
     "data": {
      "text/plain": [
       "array([ 1,  2,  3,  4,  5,  6,  7,  8,  9, 10])"
      ]
     },
     "execution_count": 36,
     "metadata": {},
     "output_type": "execute_result"
    }
   ],
   "source": [
    "#some fun ;)\n",
    "np.unique(arr)"
   ]
  },
  {
   "cell_type": "code",
   "execution_count": 37,
   "id": "c01e8f53-cbb7-4ae9-acff-deabb381724c",
   "metadata": {},
   "outputs": [
    {
     "data": {
      "text/plain": [
       "array([[ 1,  2],\n",
       "       [ 2,  3],\n",
       "       [ 3,  4],\n",
       "       [ 4,  5],\n",
       "       [ 5,  6],\n",
       "       [ 6,  7],\n",
       "       [ 7,  8],\n",
       "       [ 8,  9],\n",
       "       [ 9, 10]])"
      ]
     },
     "execution_count": 37,
     "metadata": {},
     "output_type": "execute_result"
    }
   ],
   "source": [
    "np.unique(arr2, axis = 0) #axis is the index for where"
   ]
  }
 ],
 "metadata": {
  "kernelspec": {
   "display_name": "Python 3 (ipykernel)",
   "language": "python",
   "name": "python3"
  },
  "language_info": {
   "codemirror_mode": {
    "name": "ipython",
    "version": 3
   },
   "file_extension": ".py",
   "mimetype": "text/x-python",
   "name": "python",
   "nbconvert_exporter": "python",
   "pygments_lexer": "ipython3",
   "version": "3.12.12"
  }
 },
 "nbformat": 4,
 "nbformat_minor": 5
}
