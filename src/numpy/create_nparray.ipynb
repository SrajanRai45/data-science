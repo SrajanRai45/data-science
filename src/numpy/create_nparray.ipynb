{
 "cells": [
  {
   "cell_type": "markdown",
   "id": "2826aec7-8ee1-4576-b205-5a7d31af8830",
   "metadata": {},
   "source": [
    "function  \n",
    "np.zeros((x,y))  \n",
    "np.ones((dimensions x,y))  \n",
    "np.full((dimensions x,y), number to be filled **i.e, 7**)  "
   ]
  },
  {
   "cell_type": "code",
   "execution_count": 3,
   "id": "978c0154-bfc4-4d3f-b4fa-9ca8e747761e",
   "metadata": {},
   "outputs": [],
   "source": [
    "import numpy as np\n",
    "a = np.zeros((3,3))\n",
    "b = np.ones((3,3))\n",
    "c = np.full((3,3),7)"
   ]
  },
  {
   "cell_type": "code",
   "execution_count": 6,
   "id": "39ef6b6f-d42e-41d6-863e-75a088d17f26",
   "metadata": {},
   "outputs": [
    {
     "data": {
      "text/plain": [
       "array([[0., 0., 0.],\n",
       "       [0., 0., 0.],\n",
       "       [0., 0., 0.]])"
      ]
     },
     "execution_count": 6,
     "metadata": {},
     "output_type": "execute_result"
    }
   ],
   "source": [
    "a"
   ]
  },
  {
   "cell_type": "code",
   "execution_count": 7,
   "id": "f0270972-6ee2-4b68-bd3d-2116e9d931f1",
   "metadata": {},
   "outputs": [
    {
     "data": {
      "text/plain": [
       "array([[1., 1., 1.],\n",
       "       [1., 1., 1.],\n",
       "       [1., 1., 1.]])"
      ]
     },
     "execution_count": 7,
     "metadata": {},
     "output_type": "execute_result"
    }
   ],
   "source": [
    "b"
   ]
  },
  {
   "cell_type": "code",
   "execution_count": 8,
   "id": "a2969516-38fd-48f3-87f9-24e08ef77022",
   "metadata": {},
   "outputs": [
    {
     "data": {
      "text/plain": [
       "array([[7, 7, 7],\n",
       "       [7, 7, 7],\n",
       "       [7, 7, 7]])"
      ]
     },
     "execution_count": 8,
     "metadata": {},
     "output_type": "execute_result"
    }
   ],
   "source": [
    "c"
   ]
  }
 ],
 "metadata": {
  "kernelspec": {
   "display_name": "Python 3 (ipykernel)",
   "language": "python",
   "name": "python3"
  },
  "language_info": {
   "codemirror_mode": {
    "name": "ipython",
    "version": 3
   },
   "file_extension": ".py",
   "mimetype": "text/x-python",
   "name": "python",
   "nbconvert_exporter": "python",
   "pygments_lexer": "ipython3",
   "version": "3.12.12"
  }
 },
 "nbformat": 4,
 "nbformat_minor": 5
}
