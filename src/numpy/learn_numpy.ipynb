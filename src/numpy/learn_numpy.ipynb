{
 "cells": [
  {
   "cell_type": "code",
   "execution_count": 2,
   "id": "ebc908e0-c804-4202-b324-78b0e3115396",
   "metadata": {},
   "outputs": [],
   "source": [
    "import numpy as np\n",
    "import time"
   ]
  },
  {
   "cell_type": "code",
   "execution_count": 3,
   "id": "798bf749-7a02-4070-8eb1-b9a9ed613cb0",
   "metadata": {},
   "outputs": [
    {
     "name": "stdout",
     "output_type": "stream",
     "text": [
      "0.052412986755371094\n"
     ]
    }
   ],
   "source": [
    "\n",
    "size  = 1_000_000\n",
    "\n",
    "l1 = list(range(size))\n",
    "l2 = list (range(size))\n",
    "\n",
    "\n",
    "start = time.time()\n",
    "#learn zip here\n",
    "l3 = [x+y for x,y in zip(l1,l2)]\n",
    "\n",
    "end = time.time()\n",
    "print(end -start)"
   ]
  },
  {
   "cell_type": "code",
   "execution_count": 4,
   "id": "03038002-c285-4746-a360-a27227c54dbf",
   "metadata": {},
   "outputs": [
    {
     "data": {
      "text/plain": [
       "0.001990795135498047"
      ]
     },
     "execution_count": 4,
     "metadata": {},
     "output_type": "execute_result"
    }
   ],
   "source": [
    "l4 = np.array(list(range(size)))\n",
    "l5 = np.array(list(range(size)))\n",
    "start = time.time()\n",
    "l6 = l4 + l5\n",
    "end = time.time()\n",
    "end - start"
   ]
  },
  {
   "cell_type": "code",
   "execution_count": 7,
   "id": "cd4fc69f-e55a-4549-92c2-32f5a40c0d0e",
   "metadata": {},
   "outputs": [
    {
     "data": {
      "text/plain": [
       "(891, 2)"
      ]
     },
     "execution_count": 7,
     "metadata": {},
     "output_type": "execute_result"
    }
   ],
   "source": [
    "a = np.array([[i,j] for i in range(1,100) for j in range(1,10)])\n",
    "a.shape"
   ]
  },
  {
   "cell_type": "markdown",
   "id": "0266d940-b9d4-461a-9649-2968fde3ba40",
   "metadata": {},
   "source": [
    "as you can see **(891,2)** is just matrix dimensions *i * j* **rows * columns**,  \n",
    "and its **2D** because it has only 2 elements in its size **(2D matrix)**"
   ]
  },
  {
   "cell_type": "markdown",
   "id": "6d61f51b-d545-410e-8ce1-6d13c35d0997",
   "metadata": {},
   "source": [
    "It follows **SIMD** single instruction multiple data(operations)"
   ]
  },
  {
   "cell_type": "code",
   "execution_count": 9,
   "id": "418a93c7-e460-4354-8008-8850c6d4f170",
   "metadata": {},
   "outputs": [
    {
     "data": {
      "text/plain": [
       "array([[       1,        1],\n",
       "       [       1,       16],\n",
       "       [       1,       81],\n",
       "       ...,\n",
       "       [96059601,     2401],\n",
       "       [96059601,     4096],\n",
       "       [96059601,     6561]], shape=(891, 2))"
      ]
     },
     "execution_count": 9,
     "metadata": {},
     "output_type": "execute_result"
    }
   ],
   "source": [
    "a = a **2       #squared all elements in a single operation\n",
    "a"
   ]
  },
  {
   "cell_type": "code",
   "execution_count": 13,
   "id": "a2ae71fb-a2d7-4cd6-b8fd-3c19e9a68844",
   "metadata": {},
   "outputs": [
    {
     "data": {
      "text/plain": [
       "0.06242561340332031"
      ]
     },
     "execution_count": 13,
     "metadata": {},
     "output_type": "execute_result"
    }
   ],
   "source": [
    "s = time.time()\n",
    "l = [ x ** 2 for x in range(1_000_000) ]\n",
    "e = time.time()\n",
    "e - s"
   ]
  },
  {
   "cell_type": "code",
   "execution_count": 16,
   "id": "51e18bc6-72ce-415c-9001-03f932224b2b",
   "metadata": {},
   "outputs": [
    {
     "data": {
      "text/plain": [
       "0.0023469924926757812"
      ]
     },
     "execution_count": 16,
     "metadata": {},
     "output_type": "execute_result"
    }
   ],
   "source": [
    "al = np.array([i for i in range(1_000_000)])\n",
    "s = time.time()\n",
    "al = al**2\n",
    "e = time.time()\n",
    "e-s"
   ]
  }
 ],
 "metadata": {
  "kernelspec": {
   "display_name": "Python 3 (ipykernel)",
   "language": "python",
   "name": "python3"
  },
  "language_info": {
   "codemirror_mode": {
    "name": "ipython",
    "version": 3
   },
   "file_extension": ".py",
   "mimetype": "text/x-python",
   "name": "python",
   "nbconvert_exporter": "python",
   "pygments_lexer": "ipython3",
   "version": "3.12.12"
  }
 },
 "nbformat": 4,
 "nbformat_minor": 5
}
