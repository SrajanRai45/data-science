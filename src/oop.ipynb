{
 "cells": [
  {
   "cell_type": "code",
   "execution_count": 4,
   "id": "ba3c645c-503e-41d6-b4bf-6a186cb1248f",
   "metadata": {},
   "outputs": [],
   "source": [
    "class Vehicle:\n",
    "    def __init__(self, speed, acceleration, model = \"car\"):\n",
    "        self.__speed = speed\n",
    "        self.__acceleration = acceleration\n",
    "        self.__model = model\n",
    "    def details(self):\n",
    "        print(f\"speed:{self.__speed} ,\\n acceleration:{self.__acceleration} ,\\n model:{self.__model}\\n \")"
   ]
  },
  {
   "cell_type": "code",
   "execution_count": 3,
   "id": "b2e9c0c1-63aa-4dc4-9020-64c56b815c85",
   "metadata": {},
   "outputs": [],
   "source": [
    "class Car(Vehicle):\n",
    "    def __init__(self, speed , acceleration , name):\n",
    "        self.__model = \"car\"\n",
    "        self.__speed = speed\n",
    "        self.__acceleration = acceleration\n",
    "        self.__name = name\n",
    "    def details(self):\n",
    "        print(f\"speed:{self.__speed} ,\\n acceleration:{self.__acceleration} ,\\n model:{self.__model} ,\\n name: {self.__name} \\n\")"
   ]
  },
  {
   "cell_type": "code",
   "execution_count": 5,
   "id": "473183ca-6560-4c16-81d6-069f6b7c248f",
   "metadata": {},
   "outputs": [
    {
     "name": "stdout",
     "output_type": "stream",
     "text": [
      "speed:40 ,\n",
      " acceleration:2 ,\n",
      " model:Large-truck\n",
      " \n"
     ]
    }
   ],
   "source": [
    "maruti = Vehicle(40, 2 , \"Large-truck\")\n",
    "maruti.details()"
   ]
  },
  {
   "cell_type": "code",
   "execution_count": 6,
   "id": "a2575517-2881-4d36-b9ef-f30ea263414b",
   "metadata": {},
   "outputs": [
    {
     "name": "stdout",
     "output_type": "stream",
     "text": [
      "speed:180 ,\n",
      " acceleration:200 ,\n",
      " model:car ,\n",
      " name: vr-400-lion \n",
      "\n"
     ]
    }
   ],
   "source": [
    "bugatti = Car(180,200,\"vr-400-lion\")\n",
    "bugatti.details()"
   ]
  }
 ],
 "metadata": {
  "kernelspec": {
   "display_name": "Python 3 (ipykernel)",
   "language": "python",
   "name": "python3"
  },
  "language_info": {
   "codemirror_mode": {
    "name": "ipython",
    "version": 3
   },
   "file_extension": ".py",
   "mimetype": "text/x-python",
   "name": "python",
   "nbconvert_exporter": "python",
   "pygments_lexer": "ipython3",
   "version": "3.12.12"
  }
 },
 "nbformat": 4,
 "nbformat_minor": 5
}
